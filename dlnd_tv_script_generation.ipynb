{
 "cells": [
  {
   "cell_type": "markdown",
   "metadata": {},
   "source": [
    "# TV Script Generation 电视剧本生成\n",
    "\n",
    "In this project, you'll generate your own [Simpsons](https://en.wikipedia.org/wiki/The_Simpsons) TV scripts using RNNs.  You'll be using part of the [Simpsons dataset](https://www.kaggle.com/wcukierski/the-simpsons-by-the-data) of scripts from 27 seasons.  The Neural Network you'll build will generate a new TV script for a scene at [Moe's Tavern](https://simpsonswiki.com/wiki/Moe's_Tavern).\n",
    "\n",
    "在这个项目中，您将使用RNN生成您自己的[Simpsons](https://en.wikipedia.org/wiki/The_Simpsons)电视剧。 您将使用27个季节的[Simpsons数据集](https://www.kaggle.com/wcukierski/the-simpsons-by-the-data) 部分脚本。 您将构建的神经网络将为[Moe's Tavern](https://simpsonswiki.com/wiki/Moe's_Tavern) 的场景生成一个新的电视剧。\n",
    "\n",
    "## Get the Data 获取数据\n",
    "\n",
    "The data is already provided for you.  You'll be using a subset of the original dataset.  It consists of only the scenes in Moe's Tavern.  This doesn't include other versions of the tavern, like \"Moe's Cavern\", \"Flaming Moe's\", \"Uncle Moe's Family Feed-Bag\", etc..\n",
    "\n",
    "数据已经为您提供。 您将使用原始数据集的子集。 它只由Moe's Cavern的场景组成。 这不包括其他版本的酒馆，如“Moe's Cavern”，“Flaming Moe's”，“Moe's Family Feed-Bag”等。"
   ]
  },
  {
   "cell_type": "code",
   "execution_count": 2,
   "metadata": {
    "collapsed": false
   },
   "outputs": [
    {
     "name": "stdout",
     "output_type": "stream",
     "text": [
      "Moe_Szyslak: (INTO PHONE) Moe's Tavern. Where the elite meet to drink.\n",
      "Bart_Simpson: Eh, yeah, hello, is Mike there? Last name, Rotch.\n",
      "Moe_Szyslak: (INTO PHONE) Hold on, I'll check. (TO BARFLIES) Mike Rotch. Mike Rotch. Hey, has anybody seen Mike Rotch, lately?\n",
      "Moe_Szyslak: (INTO PHONE) Listen you little puke. One of these days I'm gonna catch you, and I'm gonna carve my name on your back with an ice pick.\n",
      "Moe_Szyslak: What's the matter Homer? You're not your normal effervescent self.\n",
      "Homer_Simp\n"
     ]
    }
   ],
   "source": [
    "\"\"\"\n",
    "DON'T MODIFY ANYTHING IN THIS CELL\n",
    "\"\"\"\n",
    "import helper\n",
    "\n",
    "data_dir = './data/simpsons/moes_tavern_lines.txt'\n",
    "text = helper.load_data(data_dir)\n",
    "# Ignore notice, since we don't use it for analysing the data\n",
    "text = text[81:]\n",
    "print(text[:500])"
   ]
  },
  {
   "cell_type": "markdown",
   "metadata": {},
   "source": [
    "## Explore the Data 探索数据\n",
    "Play around with `view_sentence_range` to view different parts of the data.\n",
    "\n",
    "玩 `view_sentence_range` 来查看数据的不同部分。"
   ]
  },
  {
   "cell_type": "code",
   "execution_count": 4,
   "metadata": {
    "collapsed": false
   },
   "outputs": [
    {
     "name": "stdout",
     "output_type": "stream",
     "text": [
      "Dataset Stats\n",
      "Roughly the number of unique words: 11492\n",
      "Number of scenes: 262\n",
      "Average number of sentences in each scene: 15.248091603053435\n"
     ]
    }
   ],
   "source": [
    "\"\"\"\n",
    "DON'T MODIFY ANYTHING IN THIS CELL\n",
    "\"\"\"\n",
    "import numpy as np\n",
    "\n",
    "print('Dataset Stats')\n",
    "print('Roughly the number of unique words: {}'.format(len({word: None for word in text.split()})))\n",
    "scenes = text.split('\\n\\n')\n",
    "print('Number of scenes: {}'.format(len(scenes)))\n",
    "sentence_count_scene = [scene.count('\\n') for scene in scenes]\n",
    "print('Average number of sentences in each scene: {}'.format(np.average(sentence_count_scene)))"
   ]
  },
  {
   "cell_type": "code",
   "execution_count": 8,
   "metadata": {
    "collapsed": false
   },
   "outputs": [
    {
     "name": "stdout",
     "output_type": "stream",
     "text": [
      "Number of lines: 4257\n",
      "Average number of words in each line: 11.50434578341555\n"
     ]
    }
   ],
   "source": [
    "sentences = [sentence for scene in scenes for sentence in scene.split('\\n')]\n",
    "print('Number of lines: {}'.format(len(sentences)))\n",
    "word_count_sentence = [len(sentence.split()) for sentence in sentences]\n",
    "print('Average number of words in each line: {}'.format(np.average(word_count_sentence)))"
   ]
  },
  {
   "cell_type": "code",
   "execution_count": 13,
   "metadata": {
    "collapsed": false
   },
   "outputs": [
    {
     "name": "stdout",
     "output_type": "stream",
     "text": [
      "The sentences 0 to 10:\n",
      "Moe_Szyslak: (INTO PHONE) Moe's Tavern. Where the elite meet to drink.\n",
      "Bart_Simpson: Eh, yeah, hello, is Mike there? Last name, Rotch.\n",
      "Moe_Szyslak: (INTO PHONE) Hold on, I'll check. (TO BARFLIES) Mike Rotch. Mike Rotch. Hey, has anybody seen Mike Rotch, lately?\n",
      "Moe_Szyslak: (INTO PHONE) Listen you little puke. One of these days I'm gonna catch you, and I'm gonna carve my name on your back with an ice pick.\n",
      "Moe_Szyslak: What's the matter Homer? You're not your normal effervescent self.\n",
      "Homer_Simpson: I got my problems, Moe. Give me another one.\n",
      "Moe_Szyslak: Homer, hey, you should not drink to forget your problems.\n",
      "Barney_Gumble: Yeah, you should only drink to enhance your social skills.\n",
      "\n",
      "\n",
      "The sentences 648 to 658:\n",
      "Barney_Gumble: If you were such a big shot, why aren't you still making movies?\n",
      "Barney_Gumble: Moe?... Moe?\n",
      "Moe_Szyslak: Oh no! My favorite aggie!\n",
      "Moe_Szyslak: You stole my bit! You... That's my bit ya... Ya... ooh, ooh, you stole my bit!\n",
      "Director: Cut!\n",
      "Stagehand: Oh my God! He's killed the original Alfalfa!\n",
      "Moe_Szyslak: Yeah. Luckily, Alfalfa was an orphan owned by the studio.\n",
      "All: (MURMUR UNDERSTANDING ASSENT) Oh, I see / Yeah / That makes sense.\n",
      "Kent_Brockman: With wealthy Hollywood people on the way, local merchants can be forgiven for raising their prices a little.\n",
      "\n"
     ]
    }
   ],
   "source": [
    "view_sentence_range = (0, 10)\n",
    "print('The sentences {} to {}:'.format(*view_sentence_range))\n",
    "print('\\n'.join(text.split('\\n')[view_sentence_range[0]:view_sentence_range[1]]))\n",
    "\n",
    "view_sentence_range = (648, 658)\n",
    "print('The sentences {} to {}:'.format(*view_sentence_range))\n",
    "print('\\n'.join(text.split('\\n')[view_sentence_range[0]:view_sentence_range[1]]))"
   ]
  },
  {
   "cell_type": "markdown",
   "metadata": {},
   "source": [
    "## Implement Preprocessing Functions 实现预处理功能\n",
    "\n",
    "\n",
    "The first thing to do to any dataset is preprocessing.  Implement the following preprocessing functions below:\n",
    "- Lookup Table\n",
    "- Tokenize Punctuation\n",
    "\n",
    "任何数据集的首要任务是预处理。 实现以下预处理功能：\n",
    "- 查找表\n",
    "- 标记标点符号\n",
    "\n",
    "### Lookup Table 查找表\n",
    "To create a word embedding, you first need to transform the words to ids.  In this function, create two dictionaries:\n",
    "- Dictionary to go from the words to an id, we'll call `vocab_to_int`\n",
    "- Dictionary to go from the id to word, we'll call `int_to_vocab`\n",
    "\n",
    "Return these dictionaries in the following tuple `(vocab_to_int, int_to_vocab)`\n",
    "\n",
    "要创建一个单词嵌入，您首先需要将单词转换为ids。 在此功能中，创建两个字典：\n",
    "- 从词到字典的字典，我们称之为 `vocab_to_int`\n",
    "- 从id到word的字典，我们将调用 `int_to_vocab`\n",
    "\n",
    "在以下元组 `（vocab_to_int，int_to_vocab）` 中返回这些字典"
   ]
  },
  {
   "cell_type": "code",
   "execution_count": 16,
   "metadata": {
    "collapsed": false
   },
   "outputs": [
    {
     "name": "stdout",
     "output_type": "stream",
     "text": [
      "Tests Passed\n"
     ]
    }
   ],
   "source": [
    "import numpy as np\n",
    "import problem_unittests as tests\n",
    "from collections import Counter\n",
    "\n",
    "def create_lookup_tables(text):\n",
    "    \"\"\"\n",
    "    Create lookup tables for vocabulary\n",
    "    :param text: The text of tv scripts split into words\n",
    "    :return: A tuple of dicts (vocab_to_int, int_to_vocab)\n",
    "    \"\"\"\n",
    "    # TODO: Implement Function\n",
    "    counts = Counter(text)\n",
    "    vocab = sorted(counts, key=counts.get, reverse=True)\n",
    "    vocab_to_int = {word:ii for ii, word in enumerate(vocab, 1)}\n",
    "    int_to_vocab = {ii:word for ii, word in enumerate(vocab, 1)}\n",
    "    return vocab_to_int, int_to_vocab\n",
    "\n",
    "\"\"\"\n",
    "DON'T MODIFY ANYTHING IN THIS CELL THAT IS BELOW THIS LINE\n",
    "\"\"\"\n",
    "tests.test_create_lookup_tables(create_lookup_tables)"
   ]
  },
  {
   "cell_type": "markdown",
   "metadata": {},
   "source": [
    "### Tokenize Punctuation  标记标点符号\n",
    "We'll be splitting the script into a word array using spaces as delimiters.  However, punctuations like periods and exclamation marks make it hard for the neural network to distinguish between the word \"bye\" and \"bye!\".\n",
    "\n",
    "我们将使用空格作为分隔符将脚本分割成一个单词数组。然而，像句点和感叹号这样的标点使得神经网络难以区分\"bye\"和\"bye!\".一词。\n",
    "\n",
    "Implement the function `token_lookup` to return a dict that will be used to tokenize symbols like \"!\" into \"||Exclamation_Mark||\".  Create a dictionary for the following symbols where the symbol is the key and value is the token:\n",
    "\n",
    "实现函数 `token_lookup` 来返回一个将用于标记符号的dict，如“！”进入“|| Exclamation_Mark ||”。为符号为关键字，值为令牌的以下符号创建字典：\n",
    "\n",
    "- Period ( . )\n",
    "- Comma ( , )\n",
    "- Quotation Mark ( \" )\n",
    "- Semicolon ( ; )\n",
    "- Exclamation mark ( ! )\n",
    "- Question mark ( ? )\n",
    "- Left Parentheses ( ( )\n",
    "- Right Parentheses ( ) )\n",
    "- Dash ( -- )\n",
    "- Return ( \\n )\n",
    "\n",
    "This dictionary will be used to token the symbols and add the delimiter (space) around it.  This separates the symbols as it's own word, making it easier for the neural network to predict on the next word. Make sure you don't use a token that could be confused as a word. Instead of using the token \"dash\", try using something like \"||dash||\".\n",
    "\n",
    "该字典将用于标记符号，并在其周围添加分隔符( space)。这将符号与自己的单词分开，使得神经网络更容易预测下一个单词。确保您不要使用可能会被误解为一个字的令牌。而不是使用令牌“破折号”，请尝试使用像“||dash||”这样的东西。"
   ]
  },
  {
   "cell_type": "code",
   "execution_count": 25,
   "metadata": {
    "collapsed": false
   },
   "outputs": [
    {
     "name": "stdout",
     "output_type": "stream",
     "text": [
      "Tests Passed\n"
     ]
    }
   ],
   "source": [
    "def token_lookup():\n",
    "    \"\"\"\n",
    "    Generate a dict to turn punctuation into a token.\n",
    "    :return: Tokenize dictionary where the key is the punctuation and the value is the token\n",
    "    \"\"\"\n",
    "    # TODO: Implement Function\n",
    "    return {\".\":\"||period||\", \",\":\"||comma||\",  \"\\\"\":\"||quotation||\", \";\":\"||semicolon||\", \n",
    "            \"!\":\"||exclamation||\",  \"?\":\"||question||\",  \"(\":\"||left_parentheses||\",  \")\":\"||right_parentheses||\", \"--\":\"dash\", \"\\n\":\"||return\" }\n",
    "\n",
    "\"\"\"\n",
    "DON'T MODIFY ANYTHING IN THIS CELL THAT IS BELOW THIS LINE\n",
    "\"\"\"\n",
    "tests.test_tokenize(token_lookup)"
   ]
  },
  {
   "cell_type": "markdown",
   "metadata": {},
   "source": [
    "## Preprocess all the data and save it 预处理所有数据并保存\n",
    "Running the code cell below will preprocess all the data and save it to file.\n",
    "\n",
    "运行下面的代码单元将预处理所有的数据并保存到文件。"
   ]
  },
  {
   "cell_type": "code",
   "execution_count": 26,
   "metadata": {
    "collapsed": false
   },
   "outputs": [
    {
     "name": "stdout",
     "output_type": "stream",
     "text": [
      "preprocess data saved\n"
     ]
    }
   ],
   "source": [
    "\"\"\"\n",
    "DON'T MODIFY ANYTHING IN THIS CELL\n",
    "\"\"\"\n",
    "# Preprocess Training, Validation, and Testing Data\n",
    "helper.preprocess_and_save_data(data_dir, token_lookup, create_lookup_tables)\n",
    "print(\"preprocess data saved\")"
   ]
  },
  {
   "cell_type": "markdown",
   "metadata": {},
   "source": [
    "# Check Point 检查点\n",
    "This is your first checkpoint. If you ever decide to come back to this notebook or have to restart the notebook, you can start from here. The preprocessed data has been saved to disk.\n",
    "\n",
    "这是你的第一个检查点。 如果你决定回到笔记本电脑或者重新启动笔记本电脑，你可以从这里开始。 预处理数据已保存到磁盘。"
   ]
  },
  {
   "cell_type": "code",
   "execution_count": 1,
   "metadata": {
    "collapsed": false
   },
   "outputs": [
    {
     "name": "stdout",
     "output_type": "stream",
     "text": [
      "preprocess data loaded\n"
     ]
    }
   ],
   "source": [
    "\"\"\"\n",
    "DON'T MODIFY ANYTHING IN THIS CELL\n",
    "\"\"\"\n",
    "import helper\n",
    "import numpy as np\n",
    "import problem_unittests as tests\n",
    "\n",
    "int_text, vocab_to_int, int_to_vocab, token_dict = helper.load_preprocess()\n",
    "print(\"preprocess data loaded\")"
   ]
  },
  {
   "cell_type": "markdown",
   "metadata": {},
   "source": [
    "## Build the Neural Network 建立神经网络\n",
    "\n",
    "You'll build the components necessary to build a RNN by implementing the following functions below:\n",
    "\n",
    "您将通过实现以下功能构建构建RNN所需的组件：\n",
    "\n",
    "- get_inputs\n",
    "- get_init_cell\n",
    "- get_embed\n",
    "- build_rnn\n",
    "- build_nn\n",
    "- get_batches\n",
    "\n",
    "### Check the Version of TensorFlow and Access to GPU  检查TensorFlow版本和访问GPU"
   ]
  },
  {
   "cell_type": "code",
   "execution_count": 3,
   "metadata": {
    "collapsed": false
   },
   "outputs": [
    {
     "name": "stdout",
     "output_type": "stream",
     "text": [
      "TensorFlow Version: 1.0.1\n",
      "Default GPU Device: /gpu:0\n"
     ]
    }
   ],
   "source": [
    "\"\"\"\n",
    "DON'T MODIFY ANYTHING IN THIS CELL\n",
    "\"\"\"\n",
    "from distutils.version import LooseVersion\n",
    "import warnings\n",
    "import tensorflow as tf\n",
    "\n",
    "# Check TensorFlow Version\n",
    "assert LooseVersion(tf.__version__) >= LooseVersion('1.0'), 'Please use TensorFlow version 1.0 or newer'\n",
    "print('TensorFlow Version: {}'.format(tf.__version__))\n",
    "\n",
    "# Check for a GPU\n",
    "if not tf.test.gpu_device_name():\n",
    "    warnings.warn('No GPU found. Please use a GPU to train your neural network.')\n",
    "else:\n",
    "    print('Default GPU Device: {}'.format(tf.test.gpu_device_name()))"
   ]
  },
  {
   "cell_type": "markdown",
   "metadata": {},
   "source": [
    "### Input 输入\n",
    "Implement the `get_inputs()` function to create TF Placeholders for the Neural Network.  It should create the following placeholders:\n",
    "\n",
    "实现`get_inputs()`函数来创建神经网络的TF占位符。 应该创建以下占位符：\n",
    "\n",
    "- Input text placeholder named \"input\" using the [TF Placeholder](https://www.tensorflow.org/api_docs/python/tf/placeholder) `name` parameter.\n",
    "- Targets placeholder\n",
    "- Learning Rate placeholder\n",
    "\n",
    "- 使用[TF占位符](https://www.tensorflow.org/api_docs/python/tf/placeholder)`name`参数输入名为“输入”的文本占位符。\n",
    "- 目标占位符\n",
    "- 学习率占位符\n",
    "\n",
    "Return the placeholders in the following tuple `(Input, Targets, LearningRate)`\n",
    "\n",
    "在以下元组`(Input, Targets, LearningRate)`中返回占位符"
   ]
  },
  {
   "cell_type": "code",
   "execution_count": 4,
   "metadata": {
    "collapsed": false
   },
   "outputs": [
    {
     "name": "stdout",
     "output_type": "stream",
     "text": [
      "Tests Passed\n"
     ]
    }
   ],
   "source": [
    "def get_inputs():\n",
    "    \"\"\"\n",
    "    Create TF Placeholders for input, targets, and learning rate.\n",
    "    :return: Tuple (input, targets, learning rate)\n",
    "    \"\"\"\n",
    "    # TODO: Implement Function\n",
    "    inputs = tf.placeholder(tf.int32, [None, None], name=\"input\")\n",
    "    targets = tf.placeholder(tf.int32, [None, None], name=\"targets\")\n",
    "    learning_rate = tf.placeholder(tf.float32, name=\"learning_rate\")\n",
    "    return inputs, targets, learning_rate\n",
    "\n",
    "\n",
    "\"\"\"\n",
    "DON'T MODIFY ANYTHING IN THIS CELL THAT IS BELOW THIS LINE\n",
    "\"\"\"\n",
    "tests.test_get_inputs(get_inputs)"
   ]
  },
  {
   "cell_type": "markdown",
   "metadata": {},
   "source": [
    "### Build RNN Cell and Initialize  构建RNN单元并初始化\n",
    "\n",
    "Stack one or more [`BasicLSTMCells`](https://www.tensorflow.org/api_docs/python/tf/contrib/rnn/BasicLSTMCell) in a [`MultiRNNCell`](https://www.tensorflow.org/api_docs/python/tf/contrib/rnn/MultiRNNCell).\n",
    "- The Rnn size should be set using `rnn_size`\n",
    "- Initalize Cell State using the MultiRNNCell's [`zero_state()`](https://www.tensorflow.org/api_docs/python/tf/contrib/rnn/MultiRNNCell#zero_state) function\n",
    "- Apply the name \"initial_state\" to the initial state using [`tf.identity()`](https://www.tensorflow.org/api_docs/python/tf/identity)\n",
    "\n",
    "Return the cell and initial state in the following tuple `(Cell, InitialState)`\n",
    "\n",
    "在[`MultiRNNCell`](https://www.tensorflow.org/)中堆叠一个或多个[`BasicLSTMCells`](https://www.tensorflow.org/api_docs/python/tf/contrib/rnn/MultiRNNCell)。\n",
    "- Rnn大小应该使用`rnn_size`设置\n",
    "- 使用MultiRNNCell [`zero_state()`](https://www.tensorflow.org/api_docs/python/tf/contrib/rnn/MultiRNNCell#zero_state)函数启动单元格状态\n",
    "- 使用[`tf.identity()`](https://www.tensorflow.org/api_docs/python/tf/identity)将名称“initial_state”应用于初始状态\n",
    "\n",
    "在下面的元组`(Cell, InitialState)`中返回单元格和初始状态"
   ]
  },
  {
   "cell_type": "code",
   "execution_count": 5,
   "metadata": {
    "collapsed": false
   },
   "outputs": [
    {
     "name": "stdout",
     "output_type": "stream",
     "text": [
      "Tests Passed\n"
     ]
    }
   ],
   "source": [
    "def get_init_cell(batch_size, rnn_size):\n",
    "    \"\"\"\n",
    "    Create an RNN Cell and initialize it.\n",
    "    :param batch_size: Size of batches\n",
    "    :param rnn_size: Size of RNNs\n",
    "    :return: Tuple (cell, initialize state)\n",
    "    \"\"\"\n",
    "    # TODO: Implement Function\n",
    "    lstm = tf.contrib.rnn.BasicLSTMCell(rnn_size)\n",
    "    cell = tf.contrib.rnn.MultiRNNCell([lstm])\n",
    "    initial_state = cell.zero_state(batch_size, tf.float32)\n",
    "    initial_state = tf.identity(initial_state, \"initial_state\")\n",
    "        \n",
    "    return cell, initial_state\n",
    "\n",
    "\n",
    "\"\"\"\n",
    "DON'T MODIFY ANYTHING IN THIS CELL THAT IS BELOW THIS LINE\n",
    "\"\"\"\n",
    "tests.test_get_init_cell(get_init_cell)"
   ]
  },
  {
   "cell_type": "markdown",
   "metadata": {},
   "source": [
    "### Word Embedding 单词嵌入\n",
    "Apply embedding to `input_data` using TensorFlow.  Return the embedded sequence.\n",
    "\n",
    "使用TensorFlow将嵌入应用于`input_data`。 返回嵌入序列。"
   ]
  },
  {
   "cell_type": "code",
   "execution_count": 6,
   "metadata": {
    "collapsed": false
   },
   "outputs": [
    {
     "name": "stdout",
     "output_type": "stream",
     "text": [
      "Tests Passed\n"
     ]
    }
   ],
   "source": [
    "def get_embed(input_data, vocab_size, embed_dim):\n",
    "    \"\"\"\n",
    "    Create embedding for <input_data>.\n",
    "    :param input_data: TF placeholder for text input.\n",
    "    :param vocab_size: Number of words in vocabulary.\n",
    "    :param embed_dim: Number of embedding dimensions\n",
    "    :return: Embedded input.\n",
    "    \"\"\"\n",
    "    # TODO: Implement Function\n",
    "    embedding = tf.Variable(tf.random_uniform((vocab_size, embed_dim), -1, 1))\n",
    "    embed = tf.nn.embedding_lookup(embedding, input_data)\n",
    "    return embed\n",
    "\n",
    "\n",
    "\"\"\"\n",
    "DON'T MODIFY ANYTHING IN THIS CELL THAT IS BELOW THIS LINE\n",
    "\"\"\"\n",
    "tests.test_get_embed(get_embed)"
   ]
  },
  {
   "cell_type": "markdown",
   "metadata": {},
   "source": [
    "### Build RNN 建立RNN\n",
    "You created a RNN Cell in the `get_init_cell()` function.  Time to use the cell to create a RNN.\n",
    "- Build the RNN using the [`tf.nn.dynamic_rnn()`](https://www.tensorflow.org/api_docs/python/tf/nn/dynamic_rnn)\n",
    " - Apply the name \"final_state\" to the final state using [`tf.identity()`](https://www.tensorflow.org/api_docs/python/tf/identity)\n",
    "\n",
    "Return the outputs and final_state state in the following tuple `(Outputs, FinalState)` \n",
    "\n",
    "您在`get_init_cell()`函数中创建了一个RNN单元格。 使用单元格创建RNN的时间。\n",
    "- 使用[`tf.nn.dynamic_rnn()`](https://www.tensorflow.org/api_docs/python/tf/nn/dynamic_rnn)构建RNN\n",
    "- 使用[`tf.identity()`](https://www.tensorflow.org/api_docs/python/tf/identity)将名称“final_state”应用于最终状态\n",
    "\n",
    "在下面的元组`(Outputs, FinalState)`中返回output和final_state状态"
   ]
  },
  {
   "cell_type": "code",
   "execution_count": 7,
   "metadata": {
    "collapsed": false
   },
   "outputs": [
    {
     "name": "stdout",
     "output_type": "stream",
     "text": [
      "Tests Passed\n"
     ]
    }
   ],
   "source": [
    "def build_rnn(cell, inputs):\n",
    "    \"\"\"\n",
    "    Create a RNN using a RNN Cell\n",
    "    :param cell: RNN Cell\n",
    "    :param inputs: Input text data\n",
    "    :return: Tuple (Outputs, Final State)\n",
    "    \"\"\"\n",
    "    # TODO: Implement Function\n",
    "    outputs, final_state = tf.nn.dynamic_rnn(cell, inputs, dtype=tf.float32)\n",
    "    final_state = tf.identity(final_state, \"final_state\")\n",
    "    return outputs, final_state\n",
    "\n",
    "\n",
    "\"\"\"\n",
    "DON'T MODIFY ANYTHING IN THIS CELL THAT IS BELOW THIS LINE\n",
    "\"\"\"\n",
    "tests.test_build_rnn(build_rnn)"
   ]
  },
  {
   "cell_type": "markdown",
   "metadata": {},
   "source": [
    "### Build the Neural Network 建立神经网络\n",
    "Apply the functions you implemented above to:\n",
    "- Apply embedding to `input_data` using your `get_embed(input_data, vocab_size, embed_dim)` function.\n",
    "- Build RNN using `cell` and your `build_rnn(cell, inputs)` function.\n",
    "- Apply a fully connected layer with a linear activation and `vocab_size` as the number of outputs.\n",
    "\n",
    "Return the logits and final state in the following tuple (Logits, FinalState) \n",
    "\n",
    "将上述实现的功能应用于：\n",
    "- 使用`get_embed(input_data，vocab_size，embed_dim)`函数将嵌入应用于`input_data`。\n",
    "- 使用`cell`和你的`build_rnn(cell，inputs)`函数构建RNN。\n",
    "- 使用线性激活和`vocab_size`作为输出数量应用完全连接的层。\n",
    "\n",
    "在以下元组中返回逻辑和最终状态 `(Logits，FinalState)`"
   ]
  },
  {
   "cell_type": "code",
   "execution_count": 37,
   "metadata": {
    "collapsed": false
   },
   "outputs": [
    {
     "name": "stdout",
     "output_type": "stream",
     "text": [
      "Tests Passed\n"
     ]
    }
   ],
   "source": [
    "def build_nn(cell, rnn_size, input_data, vocab_size, embed_dim):\n",
    "    \"\"\"\n",
    "    Build part of the neural network\n",
    "    :param cell: RNN cell\n",
    "    :param rnn_size: Size of rnns\n",
    "    :param input_data: Input data\n",
    "    :param vocab_size: Vocabulary size\n",
    "    :param embed_dim: Number of embedding dimensions\n",
    "    :return: Tuple (Logits, FinalState)\n",
    "    \"\"\"\n",
    "    # TODO: Implement Function\n",
    "    embed = get_embed(input_data,  vocab_size, embed_dim)\n",
    "    outputs,  final_state = build_rnn(cell, embed)\n",
    "    logits = tf.contrib.layers.fully_connected(outputs, vocab_size, activation_fn=tf.nn.relu)\n",
    "\n",
    "    return logits, final_state\n",
    "\n",
    "\"\"\"\n",
    "DON'T MODIFY ANYTHING IN THIS CELL THAT IS BELOW THIS LINE\n",
    "\"\"\"\n",
    "tests.test_build_nn(build_nn)"
   ]
  },
  {
   "cell_type": "markdown",
   "metadata": {},
   "source": [
    "### Batches 分批\n",
    "Implement `get_batches` to create batches of input and targets using `int_text`.  The batches should be a Numpy array with the shape `(number of batches, 2, batch size, sequence length)`. Each batch contains two elements:\n",
    "- The first element is a single batch of **input** with the shape `[batch size, sequence length]`\n",
    "- The second element is a single batch of **targets** with the shape `[batch size, sequence length]`\n",
    "\n",
    "实现 `get_batches` 来创建输入和结果的分批使用`int_text`,分批应该是一个Numpy数组，形状为`(number of batches, 2, batch size, sequence length)`。每批包含两个元素：\n",
    "- 第一个元素是一批**输入**，形状为`[batch size, sequence length]`\n",
    "- 第二个元素是一批**目标**，形状为`[batch size, sequence length]`\n",
    "\n",
    "If you can't fill the last batch with enough data, drop the last batch.\n",
    "\n",
    "如果您无法使用足够的数据填写最后一个批次，请删除最后一批。\n",
    "\n",
    "For exmple, `get_batches([1, 2, 3, 4, 5, 6, 7, 8, 9, 10, 11, 12, 13, 14, 15], 2, 3)` would return a Numpy array of the following:\n",
    "\n",
    "例如，`get_batches（[1，2，3，4，5，6，7，8，9，10，11，12，13，14，15]，2，3）`将返回一个Numpy数组如下：\n",
    "\n",
    "```\n",
    "[\n",
    "  # First Batch\n",
    "  [\n",
    "    # Batch of Input\n",
    "    [[ 1  2  3], [ 7  8  9]],\n",
    "    # Batch of targets\n",
    "    [[ 2  3  4], [ 8  9 10]]\n",
    "  ],\n",
    " \n",
    "  # Second Batch\n",
    "  [\n",
    "    # Batch of Input\n",
    "    [[ 4  5  6], [10 11 12]],\n",
    "    # Batch of targets\n",
    "    [[ 5  6  7], [11 12 13]]\n",
    "  ]\n",
    "]\n",
    "```"
   ]
  },
  {
   "cell_type": "code",
   "execution_count": 74,
   "metadata": {
    "collapsed": false
   },
   "outputs": [
    {
     "name": "stdout",
     "output_type": "stream",
     "text": [
      "Tests Passed\n"
     ]
    }
   ],
   "source": [
    "def get_batches(int_text, batch_size, seq_length):\n",
    "    \"\"\"\n",
    "    Return batches of input and target\n",
    "    :param int_text: Text with the words replaced by their ids\n",
    "    :param batch_size: The size of batch\n",
    "    :param seq_length: The length of sequenc\n",
    "    :return: Batches as a Numpy array\n",
    "    \"\"\"\n",
    "    # TODO: Implement Function\n",
    "    count = len(int_text)//(batch_size * seq_length)\n",
    "    x = np.array(int_text[: batch_size*seq_length*count])\n",
    "    y = np.array(int_text[1: batch_size*seq_length*count+1])\n",
    "    x = x.reshape(-1, 1, batch_size, seq_length)\n",
    "    y = y.reshape(-1, 1, batch_size, seq_length)    \n",
    "    ret = np.concatenate((x, y), axis=1)\n",
    "    return ret\n",
    "\n",
    "\"\"\"\n",
    "DON'T MODIFY ANYTHING IN THIS CELL THAT IS BELOW THIS LINE\n",
    "\"\"\"\n",
    "tests.test_get_batches(get_batches)"
   ]
  },
  {
   "cell_type": "markdown",
   "metadata": {},
   "source": [
    "## Neural Network Training 训练神经网络\n",
    "### Hyperparameters 超参数\n",
    "\n",
    "Tune the following parameters:\n",
    "\n",
    "- Set `num_epochs` to the number of epochs.\n",
    "- Set `batch_size` to the batch size.\n",
    "- Set `rnn_size` to the size of the RNNs.\n",
    "- Set `embed_dim` to the size of the embedding.\n",
    "- Set `seq_length` to the length of sequence.\n",
    "- Set `learning_rate` to the learning rate.\n",
    "- Set `show_every_n_batches` to the number of batches the neural network should print progress.\n",
    "\n",
    "调整以下参数：\n",
    "\n",
    "- 将`num_epochs`设置为历元数。\n",
    "- 将`batch_size`设置为批量大小。\n",
    "- 将`rnn_size`设置为RNN的大小。\n",
    "- 将`embed_dim`设置为嵌入的大小。\n",
    "- 将`seq_length`设置为序列长度。\n",
    "- 将`learning_rate`设置为学习率。\n",
    "- 将`show_every_n_batches` 设置为神经网络应该打印进度的批次数。"
   ]
  },
  {
   "cell_type": "code",
   "execution_count": 97,
   "metadata": {
    "collapsed": true
   },
   "outputs": [],
   "source": [
    "# Number of Epochs\n",
    "num_epochs = 100\n",
    "# Batch Size\n",
    "batch_size = 128\n",
    "# RNN Size\n",
    "rnn_size = 256\n",
    "# Embedding Dimension Size\n",
    "embed_dim = 300\n",
    "# Sequence Length\n",
    "seq_length = 5\n",
    "# Learning Rate\n",
    "learning_rate = 0.001\n",
    "# Show stats for every n number of batches\n",
    "show_every_n_batches = 100\n",
    "\n",
    "\"\"\"\n",
    "DON'T MODIFY ANYTHING IN THIS CELL THAT IS BELOW THIS LINE\n",
    "\"\"\"\n",
    "save_dir = './save'"
   ]
  },
  {
   "cell_type": "markdown",
   "metadata": {},
   "source": [
    "### Build the Graph 构建图\n",
    "Build the graph using the neural network you implemented.\n",
    "\n",
    "使用您实现的神经网络构建图。"
   ]
  },
  {
   "cell_type": "code",
   "execution_count": 98,
   "metadata": {
    "collapsed": false
   },
   "outputs": [
    {
     "name": "stdout",
     "output_type": "stream",
     "text": [
      "done\n"
     ]
    }
   ],
   "source": [
    "\"\"\"\n",
    "DON'T MODIFY ANYTHING IN THIS CELL\n",
    "\"\"\"\n",
    "from tensorflow.contrib import seq2seq\n",
    "\n",
    "train_graph = tf.Graph()\n",
    "with train_graph.as_default():\n",
    "    vocab_size = len(int_to_vocab)\n",
    "    input_text, targets, lr = get_inputs()\n",
    "    input_data_shape = tf.shape(input_text)\n",
    "    cell, initial_state = get_init_cell(input_data_shape[0], rnn_size)\n",
    "    logits, final_state = build_nn(cell, rnn_size, input_text, vocab_size, embed_dim)\n",
    "\n",
    "    # Probabilities for generating words\n",
    "    probs = tf.nn.softmax(logits, name='probs')\n",
    "\n",
    "    # Loss function\n",
    "    cost = seq2seq.sequence_loss(\n",
    "        logits,\n",
    "        targets,\n",
    "        tf.ones([input_data_shape[0], input_data_shape[1]]))\n",
    "\n",
    "    # Optimizer\n",
    "    optimizer = tf.train.AdamOptimizer(lr)\n",
    "\n",
    "    # Gradient Clipping\n",
    "    gradients = optimizer.compute_gradients(cost)\n",
    "    capped_gradients = [(tf.clip_by_value(grad, -1., 1.), var) for grad, var in gradients if grad is not None]\n",
    "    train_op = optimizer.apply_gradients(capped_gradients)\n",
    "print(\"done\")"
   ]
  },
  {
   "cell_type": "markdown",
   "metadata": {},
   "source": [
    "## Train 训练\n",
    "Train the neural network on the preprocessed data.  If you have a hard time getting a good loss, check the [forms](https://discussions.udacity.com/) to see if anyone is having the same problem.\n",
    "\n",
    "在预处理数据上训练神经网络。 如果您很难受损，请查看[forms](https://discussions.udacity.com/)以查看是否有任何人遇到同样的问题。"
   ]
  },
  {
   "cell_type": "code",
   "execution_count": 99,
   "metadata": {
    "collapsed": false
   },
   "outputs": [
    {
     "name": "stdout",
     "output_type": "stream",
     "text": [
      "Epoch   0 Batch    0/107   train_loss = 8.822\n",
      "Epoch   0 Batch  100/107   train_loss = 6.145\n",
      "Epoch   1 Batch   93/107   train_loss = 5.819\n",
      "Epoch   2 Batch   86/107   train_loss = 5.706\n",
      "Epoch   3 Batch   79/107   train_loss = 5.885\n",
      "Epoch   4 Batch   72/107   train_loss = 5.283\n",
      "Epoch   5 Batch   65/107   train_loss = 4.970\n",
      "Epoch   6 Batch   58/107   train_loss = 5.226\n",
      "Epoch   7 Batch   51/107   train_loss = 5.138\n",
      "Epoch   8 Batch   44/107   train_loss = 4.573\n",
      "Epoch   9 Batch   37/107   train_loss = 4.657\n",
      "Epoch  10 Batch   30/107   train_loss = 4.874\n",
      "Epoch  11 Batch   23/107   train_loss = 4.801\n",
      "Epoch  12 Batch   16/107   train_loss = 4.512\n",
      "Epoch  13 Batch    9/107   train_loss = 4.283\n",
      "Epoch  14 Batch    2/107   train_loss = 4.530\n",
      "Epoch  14 Batch  102/107   train_loss = 4.756\n",
      "Epoch  15 Batch   95/107   train_loss = 4.595\n",
      "Epoch  16 Batch   88/107   train_loss = 4.736\n",
      "Epoch  17 Batch   81/107   train_loss = 4.572\n",
      "Epoch  18 Batch   74/107   train_loss = 4.549\n",
      "Epoch  19 Batch   67/107   train_loss = 4.428\n",
      "Epoch  20 Batch   60/107   train_loss = 4.459\n",
      "Epoch  21 Batch   53/107   train_loss = 4.392\n",
      "Epoch  22 Batch   46/107   train_loss = 4.147\n",
      "Epoch  23 Batch   39/107   train_loss = 4.148\n",
      "Epoch  24 Batch   32/107   train_loss = 4.233\n",
      "Epoch  25 Batch   25/107   train_loss = 4.416\n",
      "Epoch  26 Batch   18/107   train_loss = 3.929\n",
      "Epoch  27 Batch   11/107   train_loss = 3.759\n",
      "Epoch  28 Batch    4/107   train_loss = 3.745\n",
      "Epoch  28 Batch  104/107   train_loss = 3.916\n",
      "Epoch  29 Batch   97/107   train_loss = 3.673\n",
      "Epoch  30 Batch   90/107   train_loss = 4.060\n",
      "Epoch  31 Batch   83/107   train_loss = 3.881\n",
      "Epoch  32 Batch   76/107   train_loss = 3.777\n",
      "Epoch  33 Batch   69/107   train_loss = 3.868\n",
      "Epoch  34 Batch   62/107   train_loss = 3.718\n",
      "Epoch  35 Batch   55/107   train_loss = 3.582\n",
      "Epoch  36 Batch   48/107   train_loss = 3.577\n",
      "Epoch  37 Batch   41/107   train_loss = 3.538\n",
      "Epoch  38 Batch   34/107   train_loss = 3.568\n",
      "Epoch  39 Batch   27/107   train_loss = 3.181\n",
      "Epoch  40 Batch   20/107   train_loss = 3.252\n",
      "Epoch  41 Batch   13/107   train_loss = 3.361\n",
      "Epoch  42 Batch    6/107   train_loss = 3.291\n",
      "Epoch  42 Batch  106/107   train_loss = 3.104\n",
      "Epoch  43 Batch   99/107   train_loss = 3.358\n",
      "Epoch  44 Batch   92/107   train_loss = 3.192\n",
      "Epoch  45 Batch   85/107   train_loss = 3.460\n",
      "Epoch  46 Batch   78/107   train_loss = 3.294\n",
      "Epoch  47 Batch   71/107   train_loss = 3.266\n",
      "Epoch  48 Batch   64/107   train_loss = 3.129\n",
      "Epoch  49 Batch   57/107   train_loss = 3.231\n",
      "Epoch  50 Batch   50/107   train_loss = 3.113\n",
      "Epoch  51 Batch   43/107   train_loss = 3.037\n",
      "Epoch  52 Batch   36/107   train_loss = 3.144\n",
      "Epoch  53 Batch   29/107   train_loss = 3.173\n",
      "Epoch  54 Batch   22/107   train_loss = 3.164\n",
      "Epoch  55 Batch   15/107   train_loss = 2.871\n",
      "Epoch  56 Batch    8/107   train_loss = 2.850\n",
      "Epoch  57 Batch    1/107   train_loss = 2.750\n",
      "Epoch  57 Batch  101/107   train_loss = 3.242\n",
      "Epoch  58 Batch   94/107   train_loss = 3.012\n",
      "Epoch  59 Batch   87/107   train_loss = 2.842\n",
      "Epoch  60 Batch   80/107   train_loss = 2.968\n",
      "Epoch  61 Batch   73/107   train_loss = 3.211\n",
      "Epoch  62 Batch   66/107   train_loss = 3.200\n",
      "Epoch  63 Batch   59/107   train_loss = 2.914\n",
      "Epoch  64 Batch   52/107   train_loss = 2.893\n",
      "Epoch  65 Batch   45/107   train_loss = 2.928\n",
      "Epoch  66 Batch   38/107   train_loss = 2.806\n",
      "Epoch  67 Batch   31/107   train_loss = 2.676\n",
      "Epoch  68 Batch   24/107   train_loss = 2.687\n",
      "Epoch  69 Batch   17/107   train_loss = 2.797\n",
      "Epoch  70 Batch   10/107   train_loss = 3.116\n",
      "Epoch  71 Batch    3/107   train_loss = 2.535\n",
      "Epoch  71 Batch  103/107   train_loss = 2.978\n",
      "Epoch  72 Batch   96/107   train_loss = 3.155\n",
      "Epoch  73 Batch   89/107   train_loss = 3.158\n",
      "Epoch  74 Batch   82/107   train_loss = 3.125\n",
      "Epoch  75 Batch   75/107   train_loss = 2.954\n",
      "Epoch  76 Batch   68/107   train_loss = 2.954\n",
      "Epoch  77 Batch   61/107   train_loss = 2.928\n",
      "Epoch  78 Batch   54/107   train_loss = 3.142\n",
      "Epoch  79 Batch   47/107   train_loss = 2.926\n",
      "Epoch  80 Batch   40/107   train_loss = 2.771\n",
      "Epoch  81 Batch   33/107   train_loss = 3.108\n",
      "Epoch  82 Batch   26/107   train_loss = 3.542\n",
      "Epoch  83 Batch   19/107   train_loss = 2.860\n",
      "Epoch  84 Batch   12/107   train_loss = 3.034\n",
      "Epoch  85 Batch    5/107   train_loss = 2.850\n",
      "Epoch  85 Batch  105/107   train_loss = 2.882\n",
      "Epoch  86 Batch   98/107   train_loss = 3.372\n",
      "Epoch  87 Batch   91/107   train_loss = 3.067\n",
      "Epoch  88 Batch   84/107   train_loss = 3.303\n",
      "Epoch  89 Batch   77/107   train_loss = 3.152\n",
      "Epoch  90 Batch   70/107   train_loss = 2.946\n",
      "Epoch  91 Batch   63/107   train_loss = 2.825\n",
      "Epoch  92 Batch   56/107   train_loss = 2.798\n",
      "Epoch  93 Batch   49/107   train_loss = 2.691\n",
      "Epoch  94 Batch   42/107   train_loss = 3.135\n",
      "Epoch  95 Batch   35/107   train_loss = 2.849\n",
      "Epoch  96 Batch   28/107   train_loss = 2.904\n",
      "Epoch  97 Batch   21/107   train_loss = 2.867\n",
      "Epoch  98 Batch   14/107   train_loss = 3.088\n",
      "Epoch  99 Batch    7/107   train_loss = 2.867\n",
      "Model Trained and Saved\n"
     ]
    }
   ],
   "source": [
    "\"\"\"\n",
    "DON'T MODIFY ANYTHING IN THIS CELL\n",
    "\"\"\"\n",
    "batches = get_batches(int_text, batch_size, seq_length)\n",
    "\n",
    "with tf.Session(graph=train_graph) as sess:\n",
    "    sess.run(tf.global_variables_initializer())\n",
    "\n",
    "    for epoch_i in range(num_epochs):\n",
    "        state = sess.run(initial_state, {input_text: batches[0][0]})\n",
    "\n",
    "        for batch_i, (x, y) in enumerate(batches):\n",
    "            feed = {\n",
    "                input_text: x,\n",
    "                targets: y,\n",
    "                initial_state: state,\n",
    "                lr: learning_rate}\n",
    "            train_loss, state, _ = sess.run([cost, final_state, train_op], feed)\n",
    "\n",
    "            # Show every <show_every_n_batches> batches\n",
    "            if (epoch_i * len(batches) + batch_i) % show_every_n_batches == 0:\n",
    "                print('Epoch {:>3} Batch {:>4}/{}   train_loss = {:.3f}'.format(\n",
    "                    epoch_i,\n",
    "                    batch_i,\n",
    "                    len(batches),\n",
    "                    train_loss))\n",
    "\n",
    "    # Save Model\n",
    "    saver = tf.train.Saver()\n",
    "    saver.save(sess, save_dir)\n",
    "    print('Model Trained and Saved')"
   ]
  },
  {
   "cell_type": "markdown",
   "metadata": {},
   "source": [
    "## Save Parameters 保存参数\n",
    "Save `seq_length` and `save_dir` for generating a new TV script.\n",
    "\n",
    "保存`seq_length`和`save_dir`用于生成新的电视剧脚本。"
   ]
  },
  {
   "cell_type": "code",
   "execution_count": 100,
   "metadata": {
    "collapsed": false
   },
   "outputs": [
    {
     "name": "stdout",
     "output_type": "stream",
     "text": [
      "params saved\n"
     ]
    }
   ],
   "source": [
    "\"\"\"\n",
    "DON'T MODIFY ANYTHING IN THIS CELL\n",
    "\"\"\"\n",
    "# Save parameters for checkpoint\n",
    "helper.save_params((seq_length, save_dir))\n",
    "print(\"params saved\")"
   ]
  },
  {
   "cell_type": "markdown",
   "metadata": {},
   "source": [
    "# Checkpoint 检查点"
   ]
  },
  {
   "cell_type": "code",
   "execution_count": 101,
   "metadata": {
    "collapsed": false
   },
   "outputs": [
    {
     "name": "stdout",
     "output_type": "stream",
     "text": [
      "params loaded\n"
     ]
    }
   ],
   "source": [
    "\"\"\"\n",
    "DON'T MODIFY ANYTHING IN THIS CELL\n",
    "\"\"\"\n",
    "import tensorflow as tf\n",
    "import numpy as np\n",
    "import helper\n",
    "import problem_unittests as tests\n",
    "\n",
    "_, vocab_to_int, int_to_vocab, token_dict = helper.load_preprocess()\n",
    "seq_length, load_dir = helper.load_params()\n",
    "print(\"params loaded\")"
   ]
  },
  {
   "cell_type": "markdown",
   "metadata": {},
   "source": [
    "## Implement Generate Functions 实现生成函数\n",
    "### Get Tensors 获取Tensors\n",
    "\n",
    "Get tensors from `loaded_graph` using the function [`get_tensor_by_name()`](https://www.tensorflow.org/api_docs/python/tf/Graph#get_tensor_by_name).  Get the tensors using the following names:\n",
    "\n",
    "使用函数[`get_tensor_by_name()`](https://www.tensorflow.org/api_docs/python/tf/Graph#get_tensor_by_name)从`loaded_graph`获取张量。 使用以下名称获取张量：\n",
    "\n",
    "- \"input:0\"\n",
    "- \"initial_state:0\"\n",
    "- \"final_state:0\"\n",
    "- \"probs:0\"\n",
    "\n",
    "Return the tensors in the following tuple `(InputTensor, InitialStateTensor, FinalStateTensor, ProbsTensor)` \n",
    "\n",
    "返回下面的元组中的张量`（InputTensor，InitialStateTensor，FinalStateTensor，ProbsTensor）`"
   ]
  },
  {
   "cell_type": "code",
   "execution_count": 105,
   "metadata": {
    "collapsed": false
   },
   "outputs": [
    {
     "name": "stdout",
     "output_type": "stream",
     "text": [
      "Tests Passed\n"
     ]
    }
   ],
   "source": [
    "def get_tensors(loaded_graph):\n",
    "    \"\"\"\n",
    "    Get input, initial state, final state, and probabilities tensor from <loaded_graph>\n",
    "    :param loaded_graph: TensorFlow graph loaded from file\n",
    "    :return: Tuple (InputTensor, InitialStateTensor, FinalStateTensor, ProbsTensor)\n",
    "    \"\"\"\n",
    "    # TODO: Implement Function\n",
    "    input_tensor = loaded_graph.get_tensor_by_name(\"input:0\")\n",
    "    initial_state_tensor = loaded_graph.get_tensor_by_name(\"initial_state:0\")\n",
    "    final_state_tensor = loaded_graph.get_tensor_by_name(\"final_state:0\")\n",
    "    probs_tensor = loaded_graph.get_tensor_by_name(\"probs:0\")\n",
    "    return input_tensor, initial_state_tensor, final_state_tensor, probs_tensor\n",
    "\n",
    "\n",
    "\"\"\"\n",
    "DON'T MODIFY ANYTHING IN THIS CELL THAT IS BELOW THIS LINE\n",
    "\"\"\"\n",
    "tests.test_get_tensors(get_tensors)"
   ]
  },
  {
   "cell_type": "markdown",
   "metadata": {},
   "source": [
    "### Choose Word 选择单词\n",
    "Implement the `pick_word()` function to select the next word using `probabilities`.\n",
    "\n",
    "实现`pick_word()`函数，使用`probabilities`来选择下一个单词。"
   ]
  },
  {
   "cell_type": "code",
   "execution_count": 106,
   "metadata": {
    "collapsed": false
   },
   "outputs": [
    {
     "name": "stdout",
     "output_type": "stream",
     "text": [
      "Tests Passed\n"
     ]
    }
   ],
   "source": [
    "def pick_word(probabilities, int_to_vocab):\n",
    "    \"\"\"\n",
    "    Pick the next word in the generated text\n",
    "    :param probabilities: Probabilites of the next word\n",
    "    :param int_to_vocab: Dictionary of word ids as the keys and words as the values\n",
    "    :return: String of the predicted word\n",
    "    \"\"\"\n",
    "    # TODO: Implement Function\n",
    "    idx = np.argmax(probabilities)\n",
    "    return int_to_vocab[idx]\n",
    "\n",
    "\"\"\"\n",
    "DON'T MODIFY ANYTHING IN THIS CELL THAT IS BELOW THIS LINE\n",
    "\"\"\"\n",
    "tests.test_pick_word(pick_word)"
   ]
  },
  {
   "cell_type": "markdown",
   "metadata": {},
   "source": [
    "## Generate TV Script 生成电视剧脚本\n",
    "This will generate the TV script for you.  Set `gen_length` to the length of TV script you want to generate.\n",
    "\n",
    "这将为您生成电视剧本。 将`gen_length`设置为要生成的电视剧本的长度。"
   ]
  },
  {
   "cell_type": "code",
   "execution_count": 109,
   "metadata": {
    "collapsed": false
   },
   "outputs": [
    {
     "name": "stdout",
     "output_type": "stream",
     "text": [
      "moe_szyslak:(to barney) hey moe, hey, hey, two, everybody, who's all over the, but you're really comin'.\n",
      "moe_szyslak:(to self) hey, get a beer, the little...\n",
      "barney_gumble:(high voice, do this friend!\n",
      "bart_simpson:(to camera) oh man, this is gonna have great. and you could do say to marge.\n",
      "moe_szyslak:(nervous) oh, me?\n",
      "bart_simpson:(singing) when you're in a lot of\n",
      "moe_szyslak:(to homer) hey, i love you, but i am gonna have a beer.\n",
      "barney_gumble: okay, okay!\n",
      "moe_szyslak: yeah, that ain't never!\n",
      "moe_szyslak:(big, guys, it is all right.\n",
      "moe_szyslak:(nervous) oh, me?\n",
      "bart_simpson:(singing) when you're in a lot of\n",
      "moe_szyslak:(to homer) hey, i love you, but i am gonna have a beer.\n",
      "barney_gumble: okay, okay!\n",
      "moe_szyslak: yeah, that ain't never!\n",
      "moe_szyslak:(big,\n"
     ]
    }
   ],
   "source": [
    "gen_length = 200\n",
    "# homer_simpson, moe_szyslak, or Barney_Gumble\n",
    "prime_word = 'moe_szyslak'\n",
    "\n",
    "\"\"\"\n",
    "DON'T MODIFY ANYTHING IN THIS CELL THAT IS BELOW THIS LINE\n",
    "\"\"\"\n",
    "loaded_graph = tf.Graph()\n",
    "with tf.Session(graph=loaded_graph) as sess:\n",
    "    # Load saved model\n",
    "    loader = tf.train.import_meta_graph(load_dir + '.meta')\n",
    "    loader.restore(sess, load_dir)\n",
    "\n",
    "    # Get Tensors from loaded model\n",
    "    input_text, initial_state, final_state, probs = get_tensors(loaded_graph)\n",
    "\n",
    "    # Sentences generation setup\n",
    "    gen_sentences = [prime_word + ':']\n",
    "    prev_state = sess.run(initial_state, {input_text: np.array([[1]])})\n",
    "\n",
    "    # Generate sentences\n",
    "    for n in range(gen_length):\n",
    "        # Dynamic Input\n",
    "        dyn_input = [[vocab_to_int[word] for word in gen_sentences[-seq_length:]]]\n",
    "        dyn_seq_length = len(dyn_input[0])\n",
    "\n",
    "        # Get Prediction\n",
    "        probabilities, prev_state = sess.run(\n",
    "            [probs, final_state],\n",
    "            {input_text: dyn_input, initial_state: prev_state})\n",
    "        \n",
    "        pred_word = pick_word(probabilities[dyn_seq_length-1], int_to_vocab)\n",
    "\n",
    "        gen_sentences.append(pred_word)\n",
    "    \n",
    "    # Remove tokens\n",
    "    tv_script = ' '.join(gen_sentences)\n",
    "    for key, token in token_dict.items():\n",
    "        ending = ' ' if key in ['\\n', '(', '\"'] else ''\n",
    "        tv_script = tv_script.replace(' ' + token.lower(), key)\n",
    "    tv_script = tv_script.replace('\\n ', '\\n')\n",
    "    tv_script = tv_script.replace('( ', '(')\n",
    "        \n",
    "    print(tv_script)"
   ]
  },
  {
   "cell_type": "markdown",
   "metadata": {},
   "source": [
    "# The TV Script is Nonsensical 电视剧脚本是荒谬的\n",
    "It's ok if the TV script doesn't make any sense.  We trained on less than a megabyte of text.  In order to get good results, you'll have to use a smaller vocabulary or get more data.  Luckly there's more data!  As we mentioned in the begging of this project, this is a subset of [another dataset](https://www.kaggle.com/wcukierski/the-simpsons-by-the-data).  We didn't have you train on all the data, because that would take too long.  However, you are free to train your neural network on all the data.  After you complete the project, of course.\n",
    "\n",
    "没关系，电视剧没有任何意义。 我们训练了不到一兆字节的文字。 为了获得良好的效果，您必须使用较小的词汇量或获得更多数据。 幸运的是有更多的数据！ 正如我们在乞讨这个项目中提到的，这是[另一个数据集](https://www.kaggle.com/wcukierski/the-simpsons-by-the-data)的一个子集。 我们没有你训练所有的数据，因为这将花费太长时间。 然而，您可以自由地对所有数据进行神经网络训练。 \n",
    "\n",
    "\n",
    "# Submitting This Project\n",
    "When submitting this project, make sure to run all the cells before saving the notebook. Save the notebook file as \"dlnd_tv_script_generation.ipynb\" and save it as a HTML file under \"File\" -> \"Download as\". Include the \"helper.py\" and \"problem_unittests.py\" files in your submission."
   ]
  },
  {
   "cell_type": "code",
   "execution_count": null,
   "metadata": {
    "collapsed": true
   },
   "outputs": [],
   "source": []
  }
 ],
 "metadata": {
  "kernelspec": {
   "display_name": "Python 3",
   "language": "python",
   "name": "python3"
  },
  "language_info": {
   "codemirror_mode": {
    "name": "ipython",
    "version": 3
   },
   "file_extension": ".py",
   "mimetype": "text/x-python",
   "name": "python",
   "nbconvert_exporter": "python",
   "pygments_lexer": "ipython3",
   "version": "3.6.0"
  }
 },
 "nbformat": 4,
 "nbformat_minor": 1
}
